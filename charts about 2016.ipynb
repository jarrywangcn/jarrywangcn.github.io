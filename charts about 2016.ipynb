{
 "cells": [
  {
   "cell_type": "code",
   "execution_count": 2,
   "metadata": {
    "collapsed": false
   },
   "outputs": [
    {
     "name": "stderr",
     "output_type": "stream",
     "text": [
      "/Users/mac/anaconda/lib/python2.7/site-packages/matplotlib/font_manager.py:273: UserWarning: Matplotlib is building the font cache using fc-list. This may take a moment.\n",
      "  warnings.warn('Matplotlib is building the font cache using fc-list. This may take a moment.')\n"
     ]
    },
    {
     "data": {
      "image/png": "[encoded data removed]",
      "text/plain": [
       "<matplotlib.figure.Figure at 0x111d3be50>"
      ]
     },
     "metadata": {},
     "output_type": "display_data"
    }
   ],
   "source": [
    "import matplotlib.pyplot as plt\n",
    "import numpy as np  \n",
    "\n",
    "x = [1, 2, 3, 4, 5, 6, 7, 8, 9, 10, 11, 12]\n",
    "y = [9, 7, 17, 15, 8, 24, 8, 2, 13, 4, 5, 16]\n",
    "\n",
    "fig = plt.figure()  \n",
    "plt.bar(x, y,color=\"blue\")  \n",
    "plt.xlabel(\"month\")  \n",
    "plt.ylabel(\"times\")  \n",
    "plt.title(\"social activities in 2016\")  \n",
    "    \n",
    "plt.show()  "
   ]
  },
  {
   "cell_type": "markdown",
   "metadata": {},
   "source": [
    "# Things bought in 2016"
   ]
  },
  {
   "cell_type": "code",
   "execution_count": 1,
   "metadata": {
    "collapsed": true
   },
   "outputs": [],
   "source": [
    "import pandas as pd"
   ]
  },
  {
   "cell_type": "code",
   "execution_count": 2,
   "metadata": {
    "collapsed": false
   },
   "outputs": [],
   "source": [
    "things2016 = pd.read_csv('~/Downloads/what_i_have_bought_in_2016.csv')"
   ]
  },
  {
   "cell_type": "code",
   "execution_count": 3,
   "metadata": {
    "collapsed": true
   },
   "outputs": [],
   "source": [
    "things2016.columns = ['date', 'things', 'price', 'occupy', 'right', 'category', 'remark']"
   ]
  },
  {
   "cell_type": "code",
   "execution_count": 4,
   "metadata": {
    "collapsed": false
   },
   "outputs": [
    {
     "name": "stderr",
     "output_type": "stream",
     "text": [
      "/Users/mac/anaconda/lib/python2.7/site-packages/ipykernel/__main__.py:2: FutureWarning: sort(columns=....) is deprecated, use sort_values(by=.....)\n",
      "  from ipykernel import kernelapp as app\n"
     ]
    }
   ],
   "source": [
    "# things2016 order by 'category'\n",
    "things2016sort = things2016.sort(['category'])\n",
    "\n",
    "things2016sort.to_csv('~/Downloads/things2016sort.csv')"
   ]
  },
  {
   "cell_type": "code",
   "execution_count": 5,
   "metadata": {
    "collapsed": false
   },
   "outputs": [
    {
     "data": {
      "text/plain": [
       "13202.229999999998"
      ]
     },
     "execution_count": 5,
     "metadata": {},
     "output_type": "execute_result"
    }
   ],
   "source": [
    "sum(things2016sort['price'])"
   ]
  },
  {
   "cell_type": "markdown",
   "metadata": {},
   "source": [
    "# Cloth"
   ]
  },
  {
   "cell_type": "markdown",
   "metadata": {},
   "source": []
  },
  {
   "cell_type": "code",
   "execution_count": 6,
   "metadata": {
    "collapsed": false
   },
   "outputs": [
    {
     "data": {
      "text/html": [
       "<div>\n",
       "<table border=\"1\" class=\"dataframe\">\n",
       "  <thead>\n",
       "    <tr style=\"text-align: right;\">\n",
       "      <th></th>\n",
       "      <th>date</th>\n",
       "      <th>things</th>\n",
       "      <th>price</th>\n",
       "      <th>occupy</th>\n",
       "      <th>right</th>\n",
       "      <th>category</th>\n",
       "      <th>remark</th>\n",
       "    </tr>\n",
       "  </thead>\n",
       "  <tbody>\n",
       "    <tr>\n",
       "      <th>47</th>\n",
       "      <td>8-12</td>\n",
       "      <td>northage 蓝格纹衬衫</td>\n",
       "      <td>99.00</td>\n",
       "      <td>t</td>\n",
       "      <td>t</td>\n",
       "      <td>cloth</td>\n",
       "      <td>fav a little bigger</td>\n",
       "    </tr>\n",
       "    <tr>\n",
       "      <th>48</th>\n",
       "      <td>8-10</td>\n",
       "      <td>左手日记黑色九分裤</td>\n",
       "      <td>99.00</td>\n",
       "      <td>t</td>\n",
       "      <td>t</td>\n",
       "      <td>cloth</td>\n",
       "      <td>fav</td>\n",
       "    </tr>\n",
       "    <tr>\n",
       "      <th>49</th>\n",
       "      <td>8-8</td>\n",
       "      <td>眼罩</td>\n",
       "      <td>26.00</td>\n",
       "      <td>t</td>\n",
       "      <td>t</td>\n",
       "      <td>cloth</td>\n",
       "      <td>seldom use</td>\n",
       "    </tr>\n",
       "    <tr>\n",
       "      <th>50</th>\n",
       "      <td>8-5</td>\n",
       "      <td>youth人字拖</td>\n",
       "      <td>32.00</td>\n",
       "      <td>f</td>\n",
       "      <td>t</td>\n",
       "      <td>cloth</td>\n",
       "      <td>fav buy twice</td>\n",
       "    </tr>\n",
       "    <tr>\n",
       "      <th>53</th>\n",
       "      <td>7-8</td>\n",
       "      <td>洗衣袋</td>\n",
       "      <td>6.00</td>\n",
       "      <td>f</td>\n",
       "      <td>f</td>\n",
       "      <td>cloth</td>\n",
       "      <td>NaN</td>\n",
       "    </tr>\n",
       "    <tr>\n",
       "      <th>59</th>\n",
       "      <td>5-21</td>\n",
       "      <td>youth人字拖</td>\n",
       "      <td>32.00</td>\n",
       "      <td>f</td>\n",
       "      <td>t</td>\n",
       "      <td>cloth</td>\n",
       "      <td>fav</td>\n",
       "    </tr>\n",
       "    <tr>\n",
       "      <th>60</th>\n",
       "      <td>5-14</td>\n",
       "      <td>timex帆布表</td>\n",
       "      <td>264.00</td>\n",
       "      <td>t</td>\n",
       "      <td>t</td>\n",
       "      <td>cloth</td>\n",
       "      <td>fav</td>\n",
       "    </tr>\n",
       "    <tr>\n",
       "      <th>62</th>\n",
       "      <td>5-9</td>\n",
       "      <td>贝雷帽</td>\n",
       "      <td>25.00</td>\n",
       "      <td>f</td>\n",
       "      <td>t</td>\n",
       "      <td>cloth</td>\n",
       "      <td>bad quality</td>\n",
       "    </tr>\n",
       "    <tr>\n",
       "      <th>69</th>\n",
       "      <td>3-20</td>\n",
       "      <td>袜子x5</td>\n",
       "      <td>35.50</td>\n",
       "      <td>t</td>\n",
       "      <td>t</td>\n",
       "      <td>cloth</td>\n",
       "      <td>fav</td>\n",
       "    </tr>\n",
       "    <tr>\n",
       "      <th>70</th>\n",
       "      <td>3-20</td>\n",
       "      <td>凡客黑色帆布鞋</td>\n",
       "      <td>78.00</td>\n",
       "      <td>f</td>\n",
       "      <td>t</td>\n",
       "      <td>cloth</td>\n",
       "      <td>fav throw in tw</td>\n",
       "    </tr>\n",
       "    <tr>\n",
       "      <th>71</th>\n",
       "      <td>3-20</td>\n",
       "      <td>凡客白色帆布鞋</td>\n",
       "      <td>78.00</td>\n",
       "      <td>f</td>\n",
       "      <td>t</td>\n",
       "      <td>cloth</td>\n",
       "      <td>fav worn out</td>\n",
       "    </tr>\n",
       "    <tr>\n",
       "      <th>72</th>\n",
       "      <td>3-20</td>\n",
       "      <td>棉麻藏青色衬衫</td>\n",
       "      <td>43.00</td>\n",
       "      <td>f</td>\n",
       "      <td>f</td>\n",
       "      <td>cloth</td>\n",
       "      <td>棉麻不适合我</td>\n",
       "    </tr>\n",
       "    <tr>\n",
       "      <th>82</th>\n",
       "      <td>1-15</td>\n",
       "      <td>羊绒袜x2</td>\n",
       "      <td>31.40</td>\n",
       "      <td>t</td>\n",
       "      <td>t</td>\n",
       "      <td>cloth</td>\n",
       "      <td>fav</td>\n",
       "    </tr>\n",
       "    <tr>\n",
       "      <th>83</th>\n",
       "      <td>1-15</td>\n",
       "      <td>卡其色羽绒服</td>\n",
       "      <td>329.00</td>\n",
       "      <td>t</td>\n",
       "      <td>t</td>\n",
       "      <td>cloth</td>\n",
       "      <td>和肤色不是特别搭</td>\n",
       "    </tr>\n",
       "    <tr>\n",
       "      <th>84</th>\n",
       "      <td>1-15</td>\n",
       "      <td>咖啡色开衫</td>\n",
       "      <td>119.00</td>\n",
       "      <td>t</td>\n",
       "      <td>t</td>\n",
       "      <td>cloth</td>\n",
       "      <td>seldom use</td>\n",
       "    </tr>\n",
       "    <tr>\n",
       "      <th>26</th>\n",
       "      <td>11-11</td>\n",
       "      <td>左手日记米白色九分裤</td>\n",
       "      <td>85.31</td>\n",
       "      <td>t</td>\n",
       "      <td>t</td>\n",
       "      <td>cloth</td>\n",
       "      <td>not suitable for this color</td>\n",
       "    </tr>\n",
       "    <tr>\n",
       "      <th>25</th>\n",
       "      <td>11-11</td>\n",
       "      <td>左手日记黑色衬衫</td>\n",
       "      <td>77.47</td>\n",
       "      <td>t</td>\n",
       "      <td>t</td>\n",
       "      <td>cloth</td>\n",
       "      <td>fav</td>\n",
       "    </tr>\n",
       "    <tr>\n",
       "      <th>0</th>\n",
       "      <td>12-15</td>\n",
       "      <td>小葱良裁包臀裙半身裙</td>\n",
       "      <td>95.21</td>\n",
       "      <td>t</td>\n",
       "      <td>t</td>\n",
       "      <td>cloth</td>\n",
       "      <td>NaN</td>\n",
       "    </tr>\n",
       "    <tr>\n",
       "      <th>23</th>\n",
       "      <td>11-11</td>\n",
       "      <td>左手日记羊毛八分裤</td>\n",
       "      <td>77.48</td>\n",
       "      <td>t</td>\n",
       "      <td>t</td>\n",
       "      <td>cloth</td>\n",
       "      <td>NaN</td>\n",
       "    </tr>\n",
       "    <tr>\n",
       "      <th>1</th>\n",
       "      <td>12-15</td>\n",
       "      <td>小葱良裁黑色卫衣</td>\n",
       "      <td>121.44</td>\n",
       "      <td>t</td>\n",
       "      <td>t</td>\n",
       "      <td>cloth</td>\n",
       "      <td>NaN</td>\n",
       "    </tr>\n",
       "    <tr>\n",
       "      <th>2</th>\n",
       "      <td>12-15</td>\n",
       "      <td>小葱良裁吊带百褶连衣裙</td>\n",
       "      <td>124.35</td>\n",
       "      <td>t</td>\n",
       "      <td>t</td>\n",
       "      <td>cloth</td>\n",
       "      <td>NaN</td>\n",
       "    </tr>\n",
       "    <tr>\n",
       "      <th>3</th>\n",
       "      <td>12-15</td>\n",
       "      <td>收纳塑料袋/瓶</td>\n",
       "      <td>37.10</td>\n",
       "      <td>t</td>\n",
       "      <td>t</td>\n",
       "      <td>cloth</td>\n",
       "      <td>NaN</td>\n",
       "    </tr>\n",
       "    <tr>\n",
       "      <th>9</th>\n",
       "      <td>12-4</td>\n",
       "      <td>muji渔夫帽</td>\n",
       "      <td>49.00</td>\n",
       "      <td>f</td>\n",
       "      <td>t</td>\n",
       "      <td>cloth</td>\n",
       "      <td>lost</td>\n",
       "    </tr>\n",
       "    <tr>\n",
       "      <th>12</th>\n",
       "      <td>11-6</td>\n",
       "      <td>jousyu手工钱包</td>\n",
       "      <td>399.00</td>\n",
       "      <td>t</td>\n",
       "      <td>t</td>\n",
       "      <td>cloth</td>\n",
       "      <td>NaN</td>\n",
       "    </tr>\n",
       "    <tr>\n",
       "      <th>13</th>\n",
       "      <td>11-26</td>\n",
       "      <td>白色打底衫</td>\n",
       "      <td>49.90</td>\n",
       "      <td>t</td>\n",
       "      <td>f</td>\n",
       "      <td>cloth</td>\n",
       "      <td>bad quality</td>\n",
       "    </tr>\n",
       "    <tr>\n",
       "      <th>24</th>\n",
       "      <td>11-11</td>\n",
       "      <td>左手日记毛呢西装外套</td>\n",
       "      <td>155.74</td>\n",
       "      <td>t</td>\n",
       "      <td>t</td>\n",
       "      <td>cloth</td>\n",
       "      <td>NaN</td>\n",
       "    </tr>\n",
       "    <tr>\n",
       "      <th>14</th>\n",
       "      <td>11-26</td>\n",
       "      <td>黑色打底裤</td>\n",
       "      <td>39.90</td>\n",
       "      <td>t</td>\n",
       "      <td>f</td>\n",
       "      <td>cloth</td>\n",
       "      <td>bad quality</td>\n",
       "    </tr>\n",
       "    <tr>\n",
       "      <th>15</th>\n",
       "      <td>11-26</td>\n",
       "      <td>黑色打底衫</td>\n",
       "      <td>39.90</td>\n",
       "      <td>t</td>\n",
       "      <td>f</td>\n",
       "      <td>cloth</td>\n",
       "      <td>bad quality</td>\n",
       "    </tr>\n",
       "    <tr>\n",
       "      <th>16</th>\n",
       "      <td>11-26</td>\n",
       "      <td>黑色针织开衫</td>\n",
       "      <td>59.90</td>\n",
       "      <td>t</td>\n",
       "      <td>t</td>\n",
       "      <td>cloth</td>\n",
       "      <td>NaN</td>\n",
       "    </tr>\n",
       "    <tr>\n",
       "      <th>17</th>\n",
       "      <td>11-26</td>\n",
       "      <td>胸罩x2</td>\n",
       "      <td>47.60</td>\n",
       "      <td>t</td>\n",
       "      <td>f</td>\n",
       "      <td>cloth</td>\n",
       "      <td>uncomfortable</td>\n",
       "    </tr>\n",
       "    <tr>\n",
       "      <th>18</th>\n",
       "      <td>11-26</td>\n",
       "      <td>运动内衣</td>\n",
       "      <td>24.00</td>\n",
       "      <td>t</td>\n",
       "      <td>t</td>\n",
       "      <td>cloth</td>\n",
       "      <td>seldom use</td>\n",
       "    </tr>\n",
       "    <tr>\n",
       "      <th>21</th>\n",
       "      <td>11-22</td>\n",
       "      <td>回力黑色帆布鞋</td>\n",
       "      <td>59.00</td>\n",
       "      <td>t</td>\n",
       "      <td>t</td>\n",
       "      <td>cloth</td>\n",
       "      <td>NaN</td>\n",
       "    </tr>\n",
       "    <tr>\n",
       "      <th>40</th>\n",
       "      <td>10-26</td>\n",
       "      <td>内裤x2</td>\n",
       "      <td>22.59</td>\n",
       "      <td>t</td>\n",
       "      <td>t</td>\n",
       "      <td>cloth</td>\n",
       "      <td>NaN</td>\n",
       "    </tr>\n",
       "  </tbody>\n",
       "</table>\n",
       "</div>"
      ],
      "text/plain": [
       "     date           things   price occupy right category  \\\n",
       "47   8-12   northage 蓝格纹衬衫   99.00      t     t    cloth   \n",
       "48   8-10        左手日记黑色九分裤   99.00      t     t    cloth   \n",
       "49    8-8               眼罩   26.00      t     t    cloth   \n",
       "50    8-5         youth人字拖   32.00      f     t    cloth   \n",
       "53    7-8              洗衣袋    6.00      f     f    cloth   \n",
       "59   5-21         youth人字拖   32.00      f     t    cloth   \n",
       "60   5-14         timex帆布表  264.00      t     t    cloth   \n",
       "62    5-9              贝雷帽   25.00      f     t    cloth   \n",
       "69   3-20             袜子x5   35.50      t     t    cloth   \n",
       "70   3-20          凡客黑色帆布鞋   78.00      f     t    cloth   \n",
       "71   3-20          凡客白色帆布鞋   78.00      f     t    cloth   \n",
       "72   3-20          棉麻藏青色衬衫   43.00      f     f    cloth   \n",
       "82   1-15            羊绒袜x2   31.40      t     t    cloth   \n",
       "83   1-15           卡其色羽绒服  329.00      t     t    cloth   \n",
       "84   1-15            咖啡色开衫  119.00      t     t    cloth   \n",
       "26  11-11       左手日记米白色九分裤   85.31      t     t    cloth   \n",
       "25  11-11         左手日记黑色衬衫   77.47      t     t    cloth   \n",
       "0   12-15       小葱良裁包臀裙半身裙   95.21      t     t    cloth   \n",
       "23  11-11        左手日记羊毛八分裤   77.48      t     t    cloth   \n",
       "1   12-15         小葱良裁黑色卫衣  121.44      t     t    cloth   \n",
       "2   12-15      小葱良裁吊带百褶连衣裙  124.35      t     t    cloth   \n",
       "3   12-15          收纳塑料袋/瓶   37.10      t     t    cloth   \n",
       "9    12-4          muji渔夫帽   49.00      f     t    cloth   \n",
       "12   11-6       jousyu手工钱包  399.00      t     t    cloth   \n",
       "13  11-26            白色打底衫   49.90      t     f    cloth   \n",
       "24  11-11       左手日记毛呢西装外套  155.74      t     t    cloth   \n",
       "14  11-26            黑色打底裤   39.90      t     f    cloth   \n",
       "15  11-26            黑色打底衫   39.90      t     f    cloth   \n",
       "16  11-26           黑色针织开衫   59.90      t     t    cloth   \n",
       "17  11-26             胸罩x2   47.60      t     f    cloth   \n",
       "18  11-26             运动内衣   24.00      t     t    cloth   \n",
       "21  11-22          回力黑色帆布鞋   59.00      t     t    cloth   \n",
       "40  10-26             内裤x2   22.59      t     t    cloth   \n",
       "\n",
       "                          remark  \n",
       "47           fav a little bigger  \n",
       "48                           fav  \n",
       "49                    seldom use  \n",
       "50                 fav buy twice  \n",
       "53                           NaN  \n",
       "59                           fav  \n",
       "60                           fav  \n",
       "62                   bad quality  \n",
       "69                           fav  \n",
       "70               fav throw in tw  \n",
       "71                  fav worn out  \n",
       "72                        棉麻不适合我  \n",
       "82                           fav  \n",
       "83                      和肤色不是特别搭  \n",
       "84                    seldom use  \n",
       "26   not suitable for this color  \n",
       "25                           fav  \n",
       "0                            NaN  \n",
       "23                           NaN  \n",
       "1                            NaN  \n",
       "2                            NaN  \n",
       "3                            NaN  \n",
       "9                           lost  \n",
       "12                           NaN  \n",
       "13                   bad quality  \n",
       "24                           NaN  \n",
       "14                   bad quality  \n",
       "15                   bad quality  \n",
       "16                           NaN  \n",
       "17                 uncomfortable  \n",
       "18                    seldom use  \n",
       "21                           NaN  \n",
       "40                           NaN  "
      ]
     },
     "execution_count": 6,
     "metadata": {},
     "output_type": "execute_result"
    }
   ],
   "source": [
    "things2016sort[7:40]"
   ]
  },
  {
   "cell_type": "code",
   "execution_count": 7,
   "metadata": {
    "collapsed": false
   },
   "outputs": [
    {
     "data": {
      "text/plain": [
       "33"
      ]
     },
     "execution_count": 7,
     "metadata": {},
     "output_type": "execute_result"
    }
   ],
   "source": [
    "len(things2016sort[7:40])"
   ]
  },
  {
   "cell_type": "code",
   "execution_count": 8,
   "metadata": {
    "collapsed": false
   },
   "outputs": [
    {
     "ename": "SyntaxError",
     "evalue": "invalid syntax (<ipython-input-8-9dd480fad365>, line 1)",
     "output_type": "error",
     "traceback": [
      "\u001b[0;36m  File \u001b[0;32m\"<ipython-input-8-9dd480fad365>\"\u001b[0;36m, line \u001b[0;32m1\u001b[0m\n\u001b[0;31m    sum(things2016sort[7:40]['price'])`\u001b[0m\n\u001b[0m                                      ^\u001b[0m\n\u001b[0;31mSyntaxError\u001b[0m\u001b[0;31m:\u001b[0m invalid syntax\n"
     ]
    }
   ],
   "source": [
    "sum(things2016sort[7:40]['price'])`"
   ]
  },
  {
   "cell_type": "markdown",
   "metadata": {},
   "source": [
    "# Makeup"
   ]
  },
  {
   "cell_type": "code",
   "execution_count": null,
   "metadata": {
    "collapsed": false
   },
   "outputs": [],
   "source": [
    "things2016sort[59:80]"
   ]
  },
  {
   "cell_type": "code",
   "execution_count": null,
   "metadata": {
    "collapsed": false
   },
   "outputs": [],
   "source": [
    "sum(things2016sort[59:80]['price'])"
   ]
  },
  {
   "cell_type": "code",
   "execution_count": null,
   "metadata": {
    "collapsed": true
   },
   "outputs": [],
   "source": [
    "还有台湾买的化妆品2550 总共 3440"
   ]
  },
  {
   "cell_type": "markdown",
   "metadata": {},
   "source": [
    "# Digital"
   ]
  },
  {
   "cell_type": "code",
   "execution_count": null,
   "metadata": {
    "collapsed": false
   },
   "outputs": [],
   "source": [
    "things2016sort[40:52]"
   ]
  },
  {
   "cell_type": "code",
   "execution_count": null,
   "metadata": {
    "collapsed": false
   },
   "outputs": [],
   "source": [
    "sum(things2016sort[40:52]['price'])"
   ]
  },
  {
   "cell_type": "code",
   "execution_count": null,
   "metadata": {
    "collapsed": false
   },
   "outputs": [],
   "source": [
    "bill2016 = pd.read_csv('~/Downloads/bill2016.csv')\n",
    "bill2016"
   ]
  },
  {
   "cell_type": "code",
   "execution_count": null,
   "metadata": {
    "collapsed": false
   },
   "outputs": [],
   "source": [
    "bill2016.columns = ['month', 'eating', 'shopping', 'home', 'traffic', 'comm', 'social', 'study', 'travel', 'rent', 'total', 'remark']"
   ]
  }
 ],
 "metadata": {
  "anaconda-cloud": {},
  "kernelspec": {
   "display_name": "Python [conda root]",
   "language": "python",
   "name": "conda-root-py"
  },
  "language_info": {
   "codemirror_mode": {
    "name": "ipython",
    "version": 2
   },
   "file_extension": ".py",
   "mimetype": "text/x-python",
   "name": "python",
   "nbconvert_exporter": "python",
   "pygments_lexer": "ipython2",
   "version": "2.7.12"
  }
 },
 "nbformat": 4,
 "nbformat_minor": 1
}
